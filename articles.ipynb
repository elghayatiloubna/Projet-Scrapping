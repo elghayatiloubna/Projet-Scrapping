{
 "cells": [
  {
   "cell_type": "markdown",
   "id": "384f4a2a-fc72-4139-b46b-63ebe016cb7d",
   "metadata": {},
   "source": [
    "scrape articles "
   ]
  },
  {
   "cell_type": "code",
   "execution_count": 1,
   "id": "0801539e-f2ca-45b2-a8aa-0f6e2ed478b5",
   "metadata": {
    "tags": []
   },
   "outputs": [],
   "source": [
    "import requests\n",
    "from bs4 import BeautifulSoup\n",
    "headers = {'User-Agent': 'Mozilla/5.0 (Macintosh; Intel Mac OS X 10_11_2) AppleWebKit/601.3.9 (KHTML, like Gecko) Version/9.0.2 Safari/601.3.9'}\n",
    "\n",
    "url = 'https://scholar.google.com/scholar?hl=fr&as_sdt=0%2C5&q=university+cadi+ayyad&oq=university+cad'\n",
    "\n",
    "response = requests.get(url, headers=headers)\n",
    "\n",
    "soup = BeautifulSoup(response.content, 'html.parser')\n"
   ]
  },
  {
   "cell_type": "code",
   "execution_count": null,
   "id": "ea5fe7b5-40fd-4015-a8c2-f22494f784b7",
   "metadata": {
    "tags": []
   },
   "outputs": [],
   "source": [
    "for block in soup :\n",
    "    print(block)\n",
    "    print(\"-----------------------------------------------------\")"
   ]
  },
  {
   "cell_type": "code",
   "execution_count": 3,
   "id": "91563314-b8f5-47e0-86fd-1189cdc94835",
   "metadata": {
    "tags": []
   },
   "outputs": [
    {
     "data": {
      "text/plain": [
       "11"
      ]
     },
     "execution_count": 3,
     "metadata": {},
     "output_type": "execute_result"
    }
   ],
   "source": [
    "articles_blocks = soup.findAll('div',{'class':'gs_r'})\n",
    "len(articles_blocks)"
   ]
  },
  {
   "cell_type": "markdown",
   "id": "6315541f-3367-4159-8f6e-836e2e8bbc63",
   "metadata": {},
   "source": [
    "**Essayer avec le 1ere article**"
   ]
  },
  {
   "cell_type": "code",
   "execution_count": 4,
   "id": "896c200a-906d-49e5-9f30-d3ff24443dfd",
   "metadata": {
    "tags": []
   },
   "outputs": [],
   "source": [
    "import re\n",
    "article=articles_blocks[0]\n",
    "#----------------------article_id----------------------------------------------\n",
    "id=article.find('h3').find('a')['id']\n",
    "\n",
    "\n",
    "#-------------le lien de l'article---------------------------------------------\n",
    "document_link = article.find('h3').find('a')['href']\n",
    "\n",
    "\n",
    "\n",
    "#-------------le titre de l'article--------------------------------------------\n",
    "title_element = article.find('h3', {'class': 'gs_rt'}).text.strip()\n",
    "\n",
    "\n",
    "#------------------les auteurs de l'article-------------------------------------\n",
    "authors_data = article.find('div', class_='gs_a').findAll('a')\n",
    "authors =[]\n",
    "for author in authors_data:\n",
    "    author_info={}\n",
    "    author_info['name']=author.text\n",
    "    author_info['bio']=author['href']\n",
    "    authors.append(author_info) \n",
    "    \n",
    "\n",
    "#--------------------le nombre de citations de l'article---------------------------\n",
    "citation_element = article.find(lambda tag: tag.name == 'a' and 'Cité' in tag.text)\n",
    "#-------------------le lien des citations-----------------------------------------\n",
    "citation_link = citation_element['href']\n",
    "citation_count=int(re.search(r'\\d+', citation_element.text).group())\n",
    "\n",
    "\n",
    "#------------------------le nombre de versions---------------------------------------\n",
    "version_element=article.find(lambda tag: tag.name == 'a' and 'versions' in tag.text)\n",
    "#------------------------le lien des versions------------------------------------------\n",
    "version_link = version_element['href']\n",
    "version_count= int(re.search(r'\\d+', version_element.text).group())\n",
    "#------------------------les autres article en relation-----------------------------\n",
    "autres_article= soup.find(lambda tag: tag.name == 'a' and tag.text == 'Autres articles')['href']\n",
    "\n",
    "#------------------------article pdf-------------------------------------------------\n",
    "pdf = article.find('div', class_='gs_or_ggsm').find('a')['href']\n",
    "\n"
   ]
  },
  {
   "cell_type": "code",
   "execution_count": 5,
   "id": "cd5c03bf-3cad-454f-bc9f-b54529454a15",
   "metadata": {
    "tags": []
   },
   "outputs": [
    {
     "name": "stdout",
     "output_type": "stream",
     "text": [
      "ID de l'article: _hAUO1D456gJ\n",
      "Lien de l'article: https://ieeexplore.ieee.org/abstract/document/8960342/\n",
      "Titre de l'article: Starting MOOCs in African University: The experience of Cadi Ayyad University, process, review, recommendations, and prospects\n",
      "Auteurs de l'article:\n",
      "- Nom: K Berrada\n",
      "  Lien vers la biographie: /citations?user=_3QgtDcAAAAJ&hl=fr&oi=sra\n",
      "- Nom: R Bendaoud\n",
      "  Lien vers la biographie: /citations?user=9rixKFEAAAAJ&hl=fr&oi=sra\n",
      "- Nom: S Machwate\n",
      "  Lien vers la biographie: /citations?user=01wHQ3IAAAAJ&hl=fr&oi=sra\n",
      "Nombre de citations: 37\n",
      "Lien des citations: /scholar?cites=12170969541464297726&as_sdt=2005&sciodt=0,5&hl=fr\n",
      "Nombre de versions: 3\n",
      "Lien des versions: /scholar?cluster=12170969541464297726&hl=fr&as_sdt=0,5\n",
      "Lien vers d'autres articles en relation: /scholar?q=related:_hAUO1D456gJ:scholar.google.com/&scioq=university+cadi+ayyad&hl=fr&as_sdt=0,5\n",
      "Lien vers l'article PDF: https://ieeexplore.ieee.org/iel7/6287639/8948470/08960342.pdf\n"
     ]
    }
   ],
   "source": [
    "print(\"ID de l'article:\", id)\n",
    "print(\"Lien de l'article:\", document_link)\n",
    "print(\"Titre de l'article:\", title_element)\n",
    "print(\"Auteurs de l'article:\")\n",
    "for author in authors:\n",
    "    print(\"- Nom:\", author['name'])\n",
    "    print(\"  Lien vers la biographie:\", author['bio'])\n",
    "print(\"Nombre de citations:\", citation_count)\n",
    "print(\"Lien des citations:\", citation_link)\n",
    "print(\"Nombre de versions:\", version_count)\n",
    "print(\"Lien des versions:\", version_link)\n",
    "print(\"Lien vers d'autres articles en relation:\", autres_article)\n",
    "print(\"Lien vers l'article PDF:\", pdf)"
   ]
  },
  {
   "cell_type": "markdown",
   "id": "51fc3caf-fe08-4b77-873e-1719d15a2dcb",
   "metadata": {},
   "source": [
    "**Fonction pour extarcter les infos necessaire d'aprés l'élémént html de l'article** "
   ]
  },
  {
   "cell_type": "code",
   "execution_count": 6,
   "id": "2ec25d92-becf-4cca-bf8f-fcfda0235b70",
   "metadata": {
    "tags": []
   },
   "outputs": [],
   "source": [
    "import re\n",
    "\n",
    "def scrape_mblock(article):\n",
    "    article_info = {}\n",
    "\n",
    "    try:\n",
    "        # ID de l'article\n",
    "        article_info['id'] = article.find('h3').find('a')['id']\n",
    "    except:\n",
    "        article_info['id'] = None\n",
    "\n",
    "    try:\n",
    "        # Lien de l'article\n",
    "        article_info['document_link'] = article.find('h3').find('a')['href']\n",
    "    except:\n",
    "        article_info['document_link'] = None\n",
    "\n",
    "    try:\n",
    "        # Titre de l'article\n",
    "        article_info['title'] = article.find('h3', {'class': 'gs_rt'}).text.strip()\n",
    "    except:\n",
    "        article_info['title'] = None\n",
    "\n",
    "    try:\n",
    "        # Auteurs de l'article\n",
    "        authors_data = article.find('div', class_='gs_a').findAll('a')\n",
    "        article_info['authors'] = []\n",
    "        for author in authors_data:\n",
    "            author_info = {\n",
    "                'name': author.text,\n",
    "                'bio': author['href']\n",
    "            }\n",
    "            article_info['authors'].append(author_info)\n",
    "    except:\n",
    "        article_info['authors'] = []\n",
    "\n",
    "    try:\n",
    "        # Nombre de citations de l'article\n",
    "        citation_element = article.find(lambda tag: tag.name == 'a' and 'Cité' in tag.text)\n",
    "        article_info['citation_count'] = int(re.search(r'\\d+', citation_element.text).group())\n",
    "        article_info['citation_link'] = citation_element['href']\n",
    "    except:\n",
    "        article_info['citation_count'] = None\n",
    "        article_info['citation_link'] = None\n",
    "\n",
    "    try:\n",
    "        # Nombre de versions de l'article\n",
    "        version_element = article.find(lambda tag: tag.name == 'a' and 'versions' in tag.text)\n",
    "        article_info['version_count'] = int(re.search(r'\\d+', version_element.text).group())\n",
    "        article_info['version_link'] = version_element['href']\n",
    "    except:\n",
    "        article_info['version_count'] = None\n",
    "        article_info['version_link'] = None\n",
    "\n",
    "    try:\n",
    "        # Lien vers d'autres articles en relation\n",
    "        article_info['autres_articles_link'] = soup.find(lambda tag: tag.name == 'a' and tag.text == 'Autres articles')['href']\n",
    "    except:\n",
    "        article_info['autres_articles_link'] = None\n",
    "\n",
    "    try:\n",
    "        # Lien vers l'article PDF\n",
    "        article_info['pdf_link'] = article.find('div', class_='gs_or_ggsm').find('a')['href']\n",
    "    except:\n",
    "        article_info['pdf_link'] = None\n",
    "\n",
    "    return article_info"
   ]
  },
  {
   "cell_type": "markdown",
   "id": "115991d2-cd0e-4956-9308-b994c9a20178",
   "metadata": {},
   "source": [
    "#**Scrapper les résultats d'une seul page de recherche** "
   ]
  },
  {
   "cell_type": "code",
   "execution_count": 7,
   "id": "66038085-1778-405d-b453-d32a453f2632",
   "metadata": {
    "tags": []
   },
   "outputs": [],
   "source": [
    "from bs4 import BeautifulSoup\n",
    "def scrapping(url):\n",
    "    headers = {'User-Agent': 'Mozilla/5.0 (Macintosh; Intel Mac OS X 10_11_2) AppleWebKit/601.3.9 (KHTML, like Gecko) Version/9.0.2 Safari/601.3.9'}\n",
    "    # url = 'https://scholar.google.com/scholar?hl=fr&as_sdt=0%2C5&q=university+cadi+ayyad&oq=university+cad'\n",
    "    response = requests.get(url, headers=headers)\n",
    "    soup = BeautifulSoup(response.content, 'html.parser')\n",
    "    return soup\n"
   ]
  },
  {
   "cell_type": "code",
   "execution_count": 8,
   "id": "723bb877-f693-47aa-94eb-8a8c9e2fc5d6",
   "metadata": {
    "tags": []
   },
   "outputs": [],
   "source": [
    "def scrape_m_page(article_blocks):\n",
    "    \n",
    "    page_article_data = []\n",
    "    num_blocks = len(article_blocks)\n",
    "    \n",
    "    for block in range(num_blocks):\n",
    "        page_article_data.append(scrape_mblock(article_blocks[block]))\n",
    "    \n",
    "    return page_article_data"
   ]
  },
  {
   "cell_type": "markdown",
   "id": "40348eb7-3ea9-4ad0-bae9-dd4b5a0861ac",
   "metadata": {},
   "source": [
    "Extract the next link : c'est à dire le lien de la page suivante"
   ]
  },
  {
   "cell_type": "code",
   "execution_count": 9,
   "id": "966af510-db16-43e1-9343-c93df45de177",
   "metadata": {
    "tags": []
   },
   "outputs": [],
   "source": [
    "\n",
    "def extract_next_link(soup):\n",
    "    try:\n",
    "        next_link = soup.find('div', {'id': 'gs_n'})\n",
    "        print(next_link)\n",
    "        link=next_link.find_all('td')[-1].find('a')['href']\n",
    "        link = \"https://scholar.google.com/\"+link\n",
    "        return link\n",
    "    except:\n",
    "        return None \n",
    "\n",
    "    "
   ]
  },
  {
   "cell_type": "markdown",
   "id": "66bdbd0d-bf3c-4b37-b19a-d042d540afea",
   "metadata": {
    "tags": []
   },
   "source": [
    "Scrapper le nombres d'articles souhaité"
   ]
  },
  {
   "cell_type": "code",
   "execution_count": 11,
   "id": "916e191e-547f-4ceb-b43c-178d3384aaff",
   "metadata": {
    "tags": []
   },
   "outputs": [],
   "source": [
    "\n",
    "def scrape(link, count):  \n",
    "    i=0 \n",
    "    data =[]\n",
    "    while link is not None:\n",
    "        soup = scrapping(link) \n",
    "        articles_blocks = soup.findAll('div', {'class': 'gs_r'})\n",
    "        data.extend(scrape_m_page(articles_blocks)) \n",
    "        print(link)\n",
    "        print(i)\n",
    "        link = extract_next_link(soup)\n",
    "       \n",
    "        i=i+10\n",
    "        if i == count:\n",
    "            break\n",
    "    return data\n",
    "        "
   ]
  },
  {
   "cell_type": "code",
   "execution_count": null,
   "id": "01cd9676-00e8-4f8e-b9ce-22123ba25733",
   "metadata": {
    "tags": []
   },
   "outputs": [],
   "source": [
    "link='https://scholar.google.com/scholar?hl=fr&as_sdt=0%2C5&q=university+cadi+ayyad&oq=university+cad'\n",
    "data=scrape(link, 600)\n",
    "len(data)\n"
   ]
  },
  {
   "cell_type": "code",
   "execution_count": 18,
   "id": "16afe44a-edb4-474b-8e88-3f782c634f9b",
   "metadata": {},
   "outputs": [],
   "source": [
    "colonne_a_exporter = df['authors']\n",
    "\n",
    "# Créer un nouveau DataFrame avec la colonne sélectionnée\n",
    "nouveau_df = pd.DataFrame({'authors': colonne_a_exporter})\n",
    "\n",
    "# Exporter le nouveau DataFrame vers un fichier Excel\n",
    "nouveau_df.to_excel('export_excel.xlsx', index=False)"
   ]
  },
  {
   "cell_type": "code",
   "execution_count": 31,
   "id": "3ef9ff7a-708c-4be4-ab9a-abe9062b90c1",
   "metadata": {
    "tags": []
   },
   "outputs": [
    {
     "data": {
      "text/html": [
       "<div>\n",
       "<style scoped>\n",
       "    .dataframe tbody tr th:only-of-type {\n",
       "        vertical-align: middle;\n",
       "    }\n",
       "\n",
       "    .dataframe tbody tr th {\n",
       "        vertical-align: top;\n",
       "    }\n",
       "\n",
       "    .dataframe thead th {\n",
       "        text-align: right;\n",
       "    }\n",
       "</style>\n",
       "<table border=\"1\" class=\"dataframe\">\n",
       "  <thead>\n",
       "    <tr style=\"text-align: right;\">\n",
       "      <th></th>\n",
       "      <th>id</th>\n",
       "      <th>document_link</th>\n",
       "      <th>title</th>\n",
       "      <th>authors</th>\n",
       "      <th>citation_count</th>\n",
       "      <th>citation_link</th>\n",
       "      <th>version_count</th>\n",
       "      <th>version_link</th>\n",
       "      <th>autres_articles_link</th>\n",
       "      <th>pdf_link</th>\n",
       "    </tr>\n",
       "  </thead>\n",
       "  <tbody>\n",
       "    <tr>\n",
       "      <th>0</th>\n",
       "      <td>_hAUO1D456gJ</td>\n",
       "      <td>https://ieeexplore.ieee.org/abstract/document/...</td>\n",
       "      <td>Starting MOOCs in African University: The expe...</td>\n",
       "      <td>[{'name': 'K Berrada', 'bio': '/citations?user...</td>\n",
       "      <td>37.0</td>\n",
       "      <td>/scholar?cites=12170969541464297726&amp;as_sdt=200...</td>\n",
       "      <td>3.0</td>\n",
       "      <td>/scholar?cluster=12170969541464297726&amp;hl=fr&amp;as...</td>\n",
       "      <td>/scholar?q=related:_hAUO1D456gJ:scholar.google...</td>\n",
       "      <td>https://ieeexplore.ieee.org/iel7/6287639/89484...</td>\n",
       "    </tr>\n",
       "    <tr>\n",
       "      <th>1</th>\n",
       "      <td>5Hl-3tWF9kUJ</td>\n",
       "      <td>https://books.google.com/books?hl=fr&amp;lr=&amp;id=rQ...</td>\n",
       "      <td>[LIVRE][B] … numérique: Actes du colloque annu...</td>\n",
       "      <td>[{'name': 'L Gajo', 'bio': '/citations?user=E2...</td>\n",
       "      <td>11.0</td>\n",
       "      <td>/scholar?cites=5041363986495207908&amp;as_sdt=2005...</td>\n",
       "      <td>2.0</td>\n",
       "      <td>/scholar?cluster=5041363986495207908&amp;hl=fr&amp;as_...</td>\n",
       "      <td>/scholar?q=related:_hAUO1D456gJ:scholar.google...</td>\n",
       "      <td>None</td>\n",
       "    </tr>\n",
       "    <tr>\n",
       "      <th>2</th>\n",
       "      <td>JVzuQCHZ0_gJ</td>\n",
       "      <td>https://agritrop.cirad.fr/508400/</td>\n",
       "      <td>Modélisation de l'architecture du palmier datt...</td>\n",
       "      <td>[{'name': 'MA Elhoumaizi', 'bio': '/citations?...</td>\n",
       "      <td>23.0</td>\n",
       "      <td>/scholar?cites=17929913278338587685&amp;as_sdt=200...</td>\n",
       "      <td>3.0</td>\n",
       "      <td>/scholar?cluster=17929913278338587685&amp;hl=fr&amp;as...</td>\n",
       "      <td>/scholar?q=related:_hAUO1D456gJ:scholar.google...</td>\n",
       "      <td>None</td>\n",
       "    </tr>\n",
       "    <tr>\n",
       "      <th>3</th>\n",
       "      <td>veNVWfpTQd0J</td>\n",
       "      <td>https://link.springer.com/chapter/10.1007/978-...</td>\n",
       "      <td>Agility of the post COVID-19 strategic plan on...</td>\n",
       "      <td>[{'name': 'K El Kharki', 'bio': '/citations?us...</td>\n",
       "      <td>18.0</td>\n",
       "      <td>/scholar?cites=15943116490573996989&amp;as_sdt=200...</td>\n",
       "      <td>NaN</td>\n",
       "      <td>None</td>\n",
       "      <td>/scholar?q=related:_hAUO1D456gJ:scholar.google...</td>\n",
       "      <td>None</td>\n",
       "    </tr>\n",
       "    <tr>\n",
       "      <th>4</th>\n",
       "      <td>uivW1Psh50wJ</td>\n",
       "      <td>https://access.archive-ouverte.unige.ch/access...</td>\n",
       "      <td>[PDF][PDF] Articuler présence et distance, une...</td>\n",
       "      <td>[{'name': 'B Charlier', 'bio': '/citations?use...</td>\n",
       "      <td>20.0</td>\n",
       "      <td>/scholar?cites=5541435231993998266&amp;as_sdt=2005...</td>\n",
       "      <td>3.0</td>\n",
       "      <td>/scholar?cluster=5541435231993998266&amp;hl=fr&amp;as_...</td>\n",
       "      <td>/scholar?q=related:_hAUO1D456gJ:scholar.google...</td>\n",
       "      <td>https://access.archive-ouverte.unige.ch/access...</td>\n",
       "    </tr>\n",
       "    <tr>\n",
       "      <th>...</th>\n",
       "      <td>...</td>\n",
       "      <td>...</td>\n",
       "      <td>...</td>\n",
       "      <td>...</td>\n",
       "      <td>...</td>\n",
       "      <td>...</td>\n",
       "      <td>...</td>\n",
       "      <td>...</td>\n",
       "      <td>...</td>\n",
       "      <td>...</td>\n",
       "    </tr>\n",
       "    <tr>\n",
       "      <th>655</th>\n",
       "      <td>nQLx_LRrvFAJ</td>\n",
       "      <td>https://theses.hal.science/tel-02085104/</td>\n",
       "      <td>Tangential methods for model reductions and ap...</td>\n",
       "      <td>[{'name': 'Y Kaouane', 'bio': '/citations?user...</td>\n",
       "      <td>2.0</td>\n",
       "      <td>/scholar?cites=5817643243737776797&amp;as_sdt=2005...</td>\n",
       "      <td>3.0</td>\n",
       "      <td>/scholar?cluster=5817643243737776797&amp;hl=fr&amp;as_...</td>\n",
       "      <td>/scholar?q=related:_hAUO1D456gJ:scholar.google...</td>\n",
       "      <td>https://theses.hal.science/tel-02085104/file/T...</td>\n",
       "    </tr>\n",
       "    <tr>\n",
       "      <th>656</th>\n",
       "      <td>Z_-6Jop4BGUJ</td>\n",
       "      <td>https://www.igi-global.com/chapter/therapeutic...</td>\n",
       "      <td>Therapeutic strategies for treatment of COVID-19</td>\n",
       "      <td>[{'name': 'L Tamegart', 'bio': '/citations?use...</td>\n",
       "      <td>1.0</td>\n",
       "      <td>/scholar?cites=7279075432488173415&amp;as_sdt=2005...</td>\n",
       "      <td>2.0</td>\n",
       "      <td>/scholar?cluster=7279075432488173415&amp;hl=fr&amp;as_...</td>\n",
       "      <td>/scholar?q=related:_hAUO1D456gJ:scholar.google...</td>\n",
       "      <td>None</td>\n",
       "    </tr>\n",
       "    <tr>\n",
       "      <th>657</th>\n",
       "      <td>Ty2JkR3igtQJ</td>\n",
       "      <td>https://ej-med.org/index.php/ejmed/article/vie...</td>\n",
       "      <td>Bilateral Sphenopalatine Artery Embolization i...</td>\n",
       "      <td>[]</td>\n",
       "      <td>NaN</td>\n",
       "      <td>None</td>\n",
       "      <td>2.0</td>\n",
       "      <td>/scholar?cluster=15313050299636723023&amp;hl=fr&amp;as...</td>\n",
       "      <td>/scholar?q=related:_hAUO1D456gJ:scholar.google...</td>\n",
       "      <td>https://ej-med.org/index.php/ejmed/article/dow...</td>\n",
       "    </tr>\n",
       "    <tr>\n",
       "      <th>658</th>\n",
       "      <td>-O66_Rxx0OkJ</td>\n",
       "      <td>https://www.inderscienceonline.com/doi/abs/10....</td>\n",
       "      <td>Resource allocation algorithm for multi-user M...</td>\n",
       "      <td>[{'name': 'H Ayad', 'bio': '/citations?user=bD...</td>\n",
       "      <td>1.0</td>\n",
       "      <td>/scholar?cites=16848090575322935032&amp;as_sdt=200...</td>\n",
       "      <td>4.0</td>\n",
       "      <td>/scholar?cluster=16848090575322935032&amp;hl=fr&amp;as...</td>\n",
       "      <td>/scholar?q=related:_hAUO1D456gJ:scholar.google...</td>\n",
       "      <td>None</td>\n",
       "    </tr>\n",
       "    <tr>\n",
       "      <th>659</th>\n",
       "      <td>None</td>\n",
       "      <td>None</td>\n",
       "      <td>None</td>\n",
       "      <td>[]</td>\n",
       "      <td>NaN</td>\n",
       "      <td>None</td>\n",
       "      <td>NaN</td>\n",
       "      <td>None</td>\n",
       "      <td>/scholar?q=related:_hAUO1D456gJ:scholar.google...</td>\n",
       "      <td>None</td>\n",
       "    </tr>\n",
       "  </tbody>\n",
       "</table>\n",
       "<p>660 rows × 10 columns</p>\n",
       "</div>"
      ],
      "text/plain": [
       "               id                                      document_link  \\\n",
       "0    _hAUO1D456gJ  https://ieeexplore.ieee.org/abstract/document/...   \n",
       "1    5Hl-3tWF9kUJ  https://books.google.com/books?hl=fr&lr=&id=rQ...   \n",
       "2    JVzuQCHZ0_gJ                  https://agritrop.cirad.fr/508400/   \n",
       "3    veNVWfpTQd0J  https://link.springer.com/chapter/10.1007/978-...   \n",
       "4    uivW1Psh50wJ  https://access.archive-ouverte.unige.ch/access...   \n",
       "..            ...                                                ...   \n",
       "655  nQLx_LRrvFAJ           https://theses.hal.science/tel-02085104/   \n",
       "656  Z_-6Jop4BGUJ  https://www.igi-global.com/chapter/therapeutic...   \n",
       "657  Ty2JkR3igtQJ  https://ej-med.org/index.php/ejmed/article/vie...   \n",
       "658  -O66_Rxx0OkJ  https://www.inderscienceonline.com/doi/abs/10....   \n",
       "659          None                                               None   \n",
       "\n",
       "                                                 title  \\\n",
       "0    Starting MOOCs in African University: The expe...   \n",
       "1    [LIVRE][B] … numérique: Actes du colloque annu...   \n",
       "2    Modélisation de l'architecture du palmier datt...   \n",
       "3    Agility of the post COVID-19 strategic plan on...   \n",
       "4    [PDF][PDF] Articuler présence et distance, une...   \n",
       "..                                                 ...   \n",
       "655  Tangential methods for model reductions and ap...   \n",
       "656   Therapeutic strategies for treatment of COVID-19   \n",
       "657  Bilateral Sphenopalatine Artery Embolization i...   \n",
       "658  Resource allocation algorithm for multi-user M...   \n",
       "659                                               None   \n",
       "\n",
       "                                               authors  citation_count  \\\n",
       "0    [{'name': 'K Berrada', 'bio': '/citations?user...            37.0   \n",
       "1    [{'name': 'L Gajo', 'bio': '/citations?user=E2...            11.0   \n",
       "2    [{'name': 'MA Elhoumaizi', 'bio': '/citations?...            23.0   \n",
       "3    [{'name': 'K El Kharki', 'bio': '/citations?us...            18.0   \n",
       "4    [{'name': 'B Charlier', 'bio': '/citations?use...            20.0   \n",
       "..                                                 ...             ...   \n",
       "655  [{'name': 'Y Kaouane', 'bio': '/citations?user...             2.0   \n",
       "656  [{'name': 'L Tamegart', 'bio': '/citations?use...             1.0   \n",
       "657                                                 []             NaN   \n",
       "658  [{'name': 'H Ayad', 'bio': '/citations?user=bD...             1.0   \n",
       "659                                                 []             NaN   \n",
       "\n",
       "                                         citation_link  version_count  \\\n",
       "0    /scholar?cites=12170969541464297726&as_sdt=200...            3.0   \n",
       "1    /scholar?cites=5041363986495207908&as_sdt=2005...            2.0   \n",
       "2    /scholar?cites=17929913278338587685&as_sdt=200...            3.0   \n",
       "3    /scholar?cites=15943116490573996989&as_sdt=200...            NaN   \n",
       "4    /scholar?cites=5541435231993998266&as_sdt=2005...            3.0   \n",
       "..                                                 ...            ...   \n",
       "655  /scholar?cites=5817643243737776797&as_sdt=2005...            3.0   \n",
       "656  /scholar?cites=7279075432488173415&as_sdt=2005...            2.0   \n",
       "657                                               None            2.0   \n",
       "658  /scholar?cites=16848090575322935032&as_sdt=200...            4.0   \n",
       "659                                               None            NaN   \n",
       "\n",
       "                                          version_link  \\\n",
       "0    /scholar?cluster=12170969541464297726&hl=fr&as...   \n",
       "1    /scholar?cluster=5041363986495207908&hl=fr&as_...   \n",
       "2    /scholar?cluster=17929913278338587685&hl=fr&as...   \n",
       "3                                                 None   \n",
       "4    /scholar?cluster=5541435231993998266&hl=fr&as_...   \n",
       "..                                                 ...   \n",
       "655  /scholar?cluster=5817643243737776797&hl=fr&as_...   \n",
       "656  /scholar?cluster=7279075432488173415&hl=fr&as_...   \n",
       "657  /scholar?cluster=15313050299636723023&hl=fr&as...   \n",
       "658  /scholar?cluster=16848090575322935032&hl=fr&as...   \n",
       "659                                               None   \n",
       "\n",
       "                                  autres_articles_link  \\\n",
       "0    /scholar?q=related:_hAUO1D456gJ:scholar.google...   \n",
       "1    /scholar?q=related:_hAUO1D456gJ:scholar.google...   \n",
       "2    /scholar?q=related:_hAUO1D456gJ:scholar.google...   \n",
       "3    /scholar?q=related:_hAUO1D456gJ:scholar.google...   \n",
       "4    /scholar?q=related:_hAUO1D456gJ:scholar.google...   \n",
       "..                                                 ...   \n",
       "655  /scholar?q=related:_hAUO1D456gJ:scholar.google...   \n",
       "656  /scholar?q=related:_hAUO1D456gJ:scholar.google...   \n",
       "657  /scholar?q=related:_hAUO1D456gJ:scholar.google...   \n",
       "658  /scholar?q=related:_hAUO1D456gJ:scholar.google...   \n",
       "659  /scholar?q=related:_hAUO1D456gJ:scholar.google...   \n",
       "\n",
       "                                              pdf_link  \n",
       "0    https://ieeexplore.ieee.org/iel7/6287639/89484...  \n",
       "1                                                 None  \n",
       "2                                                 None  \n",
       "3                                                 None  \n",
       "4    https://access.archive-ouverte.unige.ch/access...  \n",
       "..                                                 ...  \n",
       "655  https://theses.hal.science/tel-02085104/file/T...  \n",
       "656                                               None  \n",
       "657  https://ej-med.org/index.php/ejmed/article/dow...  \n",
       "658                                               None  \n",
       "659                                               None  \n",
       "\n",
       "[660 rows x 10 columns]"
      ]
     },
     "execution_count": 31,
     "metadata": {},
     "output_type": "execute_result"
    }
   ],
   "source": [
    "import pandas as pd\n",
    "df=pd.DataFrame(data) \n",
    "pd.DataFrame(data)"
   ]
  },
  {
   "cell_type": "markdown",
   "id": "a82a4a86-9eb9-4e6c-959c-b3eee38399a4",
   "metadata": {},
   "source": [
    "isoler la colonne authors dans un autre dataframe"
   ]
  },
  {
   "cell_type": "code",
   "execution_count": null,
   "id": "9edd066e-550b-417e-bd2b-10550b12fd9b",
   "metadata": {
    "tags": []
   },
   "outputs": [],
   "source": [
    "import pandas as pd\n",
    "\n",
    "\n",
    "# Créez une liste vide pour stocker les nouveaux enregistrements\n",
    "new_records = []\n",
    "\n",
    "# Parcourez chaque ligne de la colonne \"authors\"\n",
    "for authors_list in df['authors']:\n",
    "    # Initialisez une liste temporaire pour stocker les nouveaux enregistrements de chaque ligne\n",
    "    temp_records = []\n",
    "    \n",
    "    # Parcourez chaque dictionnaire dans la liste\n",
    "    for author_dict in authors_list:\n",
    "        # Vérifiez si le dictionnaire n'est pas vide\n",
    "        if author_dict:\n",
    "            # Ajoutez le dictionnaire à la liste temporaire\n",
    "            temp_records.append({\n",
    "                'name': author_dict['name'],\n",
    "                'bio': f\"https://scholar.google.com{author_dict['bio']}\"  # Ajoutez le préfixe de l'URL\n",
    "            })\n",
    "    \n",
    "    # Ajoutez la liste temporaire à la liste des nouveaux enregistrements\n",
    "    new_records.extend(temp_records)\n",
    "\n",
    "# Créez un nouveau DataFrame à partir de la liste des nouveaux enregistrements\n",
    "new_df = pd.DataFrame(new_records)\n",
    "\n"
   ]
  },
  {
   "cell_type": "markdown",
   "id": "f45aa0e9-70d0-4982-9377-043d082a15c3",
   "metadata": {},
   "source": [
    "On supprime les doublons "
   ]
  },
  {
   "cell_type": "code",
   "execution_count": null,
   "id": "60202952-e968-40aa-9649-ddc2859a5b2a",
   "metadata": {
    "tags": []
   },
   "outputs": [],
   "source": [
    "# Supprimez les doublons basés sur la colonne \"name\"\n",
    "new_df_no_duplicates = new_df.drop_duplicates(subset='name')\n",
    "\n",
    "# Affichez le nouveau DataFrame sans doublons\n",
    "pd.Dataframe(new_df_no_duplicates)\n"
   ]
  },
  {
   "cell_type": "code",
   "execution_count": 32,
   "id": "e3f62cab-bf6b-487f-a91c-d72d442bc5db",
   "metadata": {
    "tags": []
   },
   "outputs": [
    {
     "data": {
      "text/html": [
       "<div>\n",
       "<style scoped>\n",
       "    .dataframe tbody tr th:only-of-type {\n",
       "        vertical-align: middle;\n",
       "    }\n",
       "\n",
       "    .dataframe tbody tr th {\n",
       "        vertical-align: top;\n",
       "    }\n",
       "\n",
       "    .dataframe thead th {\n",
       "        text-align: right;\n",
       "    }\n",
       "</style>\n",
       "<table border=\"1\" class=\"dataframe\">\n",
       "  <thead>\n",
       "    <tr style=\"text-align: right;\">\n",
       "      <th></th>\n",
       "      <th>name</th>\n",
       "      <th>bio</th>\n",
       "    </tr>\n",
       "  </thead>\n",
       "  <tbody>\n",
       "    <tr>\n",
       "      <th>0</th>\n",
       "      <td>K Berrada</td>\n",
       "      <td>https://scholar.google.com/citations?user=_3Qg...</td>\n",
       "    </tr>\n",
       "    <tr>\n",
       "      <th>1</th>\n",
       "      <td>R Bendaoud</td>\n",
       "      <td>https://scholar.google.com/citations?user=9rix...</td>\n",
       "    </tr>\n",
       "    <tr>\n",
       "      <th>2</th>\n",
       "      <td>S Machwate</td>\n",
       "      <td>https://scholar.google.com/citations?user=01wH...</td>\n",
       "    </tr>\n",
       "    <tr>\n",
       "      <th>3</th>\n",
       "      <td>L Gajo</td>\n",
       "      <td>https://scholar.google.com/citations?user=E239...</td>\n",
       "    </tr>\n",
       "    <tr>\n",
       "      <th>4</th>\n",
       "      <td>V Larivière</td>\n",
       "      <td>https://scholar.google.com/citations?user=UvfK...</td>\n",
       "    </tr>\n",
       "    <tr>\n",
       "      <th>...</th>\n",
       "      <td>...</td>\n",
       "      <td>...</td>\n",
       "    </tr>\n",
       "    <tr>\n",
       "      <th>505</th>\n",
       "      <td>R Abderrahmane</td>\n",
       "      <td>https://scholar.google.com/citations?user=Dfgd...</td>\n",
       "    </tr>\n",
       "    <tr>\n",
       "      <th>507</th>\n",
       "      <td>Y Kaouane</td>\n",
       "      <td>https://scholar.google.com/citations?user=JUJ2...</td>\n",
       "    </tr>\n",
       "    <tr>\n",
       "      <th>508</th>\n",
       "      <td>L Tamegart</td>\n",
       "      <td>https://scholar.google.com/citations?user=2OXK...</td>\n",
       "    </tr>\n",
       "    <tr>\n",
       "      <th>509</th>\n",
       "      <td>H Ayad</td>\n",
       "      <td>https://scholar.google.com/citations?user=bD5-...</td>\n",
       "    </tr>\n",
       "    <tr>\n",
       "      <th>510</th>\n",
       "      <td>K El Baamrani</td>\n",
       "      <td>https://scholar.google.com/citations?user=2lUa...</td>\n",
       "    </tr>\n",
       "  </tbody>\n",
       "</table>\n",
       "<p>349 rows × 2 columns</p>\n",
       "</div>"
      ],
      "text/plain": [
       "               name                                                bio\n",
       "0         K Berrada  https://scholar.google.com/citations?user=_3Qg...\n",
       "1        R Bendaoud  https://scholar.google.com/citations?user=9rix...\n",
       "2        S Machwate  https://scholar.google.com/citations?user=01wH...\n",
       "3            L Gajo  https://scholar.google.com/citations?user=E239...\n",
       "4       V Larivière  https://scholar.google.com/citations?user=UvfK...\n",
       "..              ...                                                ...\n",
       "505  R Abderrahmane  https://scholar.google.com/citations?user=Dfgd...\n",
       "507       Y Kaouane  https://scholar.google.com/citations?user=JUJ2...\n",
       "508      L Tamegart  https://scholar.google.com/citations?user=2OXK...\n",
       "509          H Ayad  https://scholar.google.com/citations?user=bD5-...\n",
       "510   K El Baamrani  https://scholar.google.com/citations?user=2lUa...\n",
       "\n",
       "[349 rows x 2 columns]"
      ]
     },
     "execution_count": 32,
     "metadata": {},
     "output_type": "execute_result"
    }
   ],
   "source": [
    "pd.DataFrame(new_df_no_duplicates)"
   ]
  },
  {
   "cell_type": "markdown",
   "id": "64b02d3d-ac01-4d80-a82b-25d56b108b20",
   "metadata": {
    "tags": []
   },
   "source": [
    "On sauvgarde les résulats sous forme de fichier xlsx"
   ]
  },
  {
   "cell_type": "code",
   "execution_count": null,
   "id": "ea85cec1-deed-49e5-9e35-376ae37829b5",
   "metadata": {
    "tags": []
   },
   "outputs": [],
   "source": [
    "new_df_no_duplicates.to_excel('resultat.xlsx', index=False)"
   ]
  },
  {
   "cell_type": "code",
   "execution_count": null,
   "id": "42d0d9dc-22b0-4b41-b095-a4de20709181",
   "metadata": {},
   "outputs": [],
   "source": []
  }
 ],
 "metadata": {
  "kernelspec": {
   "display_name": "Python 3 (ipykernel)",
   "language": "python",
   "name": "python3"
  },
  "language_info": {
   "codemirror_mode": {
    "name": "ipython",
    "version": 3
   },
   "file_extension": ".py",
   "mimetype": "text/x-python",
   "name": "python",
   "nbconvert_exporter": "python",
   "pygments_lexer": "ipython3",
   "version": "3.11.5"
  }
 },
 "nbformat": 4,
 "nbformat_minor": 5
}
